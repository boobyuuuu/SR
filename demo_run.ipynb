{
 "cells": [
  {
   "cell_type": "code",
   "execution_count": null,
   "metadata": {},
   "outputs": [],
   "source": [
    "# 这个文件用来启动展示\n",
    "# 展示的模型在maunal_saves里\n",
    "# 自动读取参数，不保存\n",
    "from modules.application import application\n",
    "\n",
    "from utils.VAE_EXP_2_3 import VAE\n",
    "# demo引用具体的某一个vae\n",
    "name = '2_3'\n",
    "application(MODE = 'demo', vae = VAE, NAME = name) "
   ]
  }
 ],
 "metadata": {
  "kernelspec": {
   "display_name": "Python 3 (ipykernel)",
   "language": "python",
   "name": "python3"
  },
  "language_info": {
   "codemirror_mode": {
    "name": "ipython",
    "version": 3
   },
   "file_extension": ".py",
   "mimetype": "text/x-python",
   "name": "python",
   "nbconvert_exporter": "python",
   "pygments_lexer": "ipython3",
   "version": "3.10.12"
  }
 },
 "nbformat": 4,
 "nbformat_minor": 4
}
