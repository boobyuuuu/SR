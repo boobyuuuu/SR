{
 "cells": [
  {
   "cell_type": "markdown",
   "metadata": {},
   "source": [
    "代码插入Train文件最后"
   ]
  },
  {
   "cell_type": "code",
   "execution_count": null,
   "metadata": {},
   "outputs": [],
   "source": [
    "for i, (x, y) in enumerate(dataloader):\n",
    "    x = x.squeeze(1) # 这里x和y都是五维的，去掉第二维才能重建\n",
    "    y = y.squeeze(1) # 从[batch_size, channels, 组数（奇怪不管他），height, width]变为 [batch_size, 组数（奇怪不管他）, height, width]\n",
    "    x_rec = vae(x)\n",
    "\n",
    "print(\"一个批次包含\",x.shape[0],\"张图片，每个图片的尺寸为\",x.shape[1:])\n",
    "print(\"要imshow除去x需要再除去一个维度化为\",x.shape[2:])\n",
    "\n",
    "print(x.shape)\n",
    "print(x_rec[0].shape) #x_rec是3元元组，(img, mu, logvar)\n",
    "print(y.shape)\n",
    "\n",
    "img_LR_test = x.cpu().detach().numpy()\n",
    "img_SR_test = x_rec[0].cpu().detach().numpy()\n",
    "img_HR_test = y.cpu().detach().numpy()\n",
    "\n",
    "fig,ax = plt.subplots(1,3)\n",
    "img_number = 2\n",
    "\n",
    "ax[0].imshow(img_LR_test[img_number,0,:,:],cmap='hot')\n",
    "ax[0].set_xlabel(\"Low_Resolution\")\n",
    "ax[1].imshow(img_SR_test[img_number,0,:,:],cmap='hot')\n",
    "ax[1].set_xlabel(\"Super-Resolution\")\n",
    "ax[2].imshow(img_HR_test[img_number,0,:,:],cmap='hot')\n",
    "ax[2].set_xlabel(\"High_Resolution\")\n",
    "plt.show()"
   ]
  }
 ],
 "metadata": {
  "language_info": {
   "name": "python"
  }
 },
 "nbformat": 4,
 "nbformat_minor": 2
}
