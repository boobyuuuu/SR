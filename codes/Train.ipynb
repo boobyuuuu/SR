{
 "cells": [
  {
   "cell_type": "code",
   "execution_count": 1,
   "id": "ba95a29b",
   "metadata": {
    "ExecuteTime": {
     "end_time": "2024-03-05T14:22:32.148778Z",
     "start_time": "2024-03-05T14:22:30.158486Z"
    },
    "papermill": {
     "duration": 4.0798,
     "end_time": "2023-10-27T12:21:14.186843",
     "exception": false,
     "start_time": "2023-10-27T12:21:10.107043",
     "status": "completed"
    },
    "tags": []
   },
   "outputs": [],
   "source": [
    "EXP_NAME = \"EXP_2_1\""
   ]
  },
  {
   "cell_type": "code",
   "execution_count": 2,
   "id": "2f307682-3c14-4e6d-86eb-0406da377ad7",
   "metadata": {},
   "outputs": [],
   "source": [
    "import torch; torch.manual_seed(0)\n",
    "import numpy as np\n",
    "import matplotlib.pyplot as plt\n",
    "import torch.nn as nn\n",
    "from torch.utils.data import DataLoader\n",
    "from function.Dir import Dir\n",
    "from function.Dataset import ImageDataset\n",
    "from function.Loss import Custom_criterion\n",
    "from function.Log import log\n",
    "import importlib\n",
    "\n",
    "VAE_module = importlib.import_module(f'function.VAE_{EXP_NAME}')\n",
    "VAE = getattr(VAE_module, 'VAE')\n",
    "\n",
    "NUM_TO_LEARN = 5000 #训练集放入图片对数量\n",
    "EPOCHS = 1000 #参数1\n",
    "BATCH_SIZE = 128 #参数2\n",
    "LATENTDIM = 256 #参数3\n",
    "LR_MAX = 5e-4\n",
    "LR_MIN = 5e-6\n",
    "mode = 1 #0代表STED_HC文件训练，1代表使用STED，对应ImageDataset里的 mode 参数。（STED出的模型对泛化能力弱，STED_HC对训练集的还原会有点失真）\n",
    "\n",
    "DEVICE = 'cuda'\n",
    "LOSS_PLOT = []\n",
    "EPOCH_PLOT = []"
   ]
  },
  {
   "cell_type": "code",
   "execution_count": 3,
   "id": "4e2525e0",
   "metadata": {},
   "outputs": [],
   "source": [
    "name = f'{EPOCHS}epo_{BATCH_SIZE}bth_{LATENTDIM}latn'\n",
    "\n",
    "#加载数据集\n",
    "dataset = ImageDataset(NUM_TO_LEARN, mode)\n",
    "dataloader = DataLoader(dataset, BATCH_SIZE, True)\n",
    "\n",
    "#初始化VAE网络\n",
    "vae = VAE(LATENTDIM).to(DEVICE)\n",
    "vae = nn.DataParallel(vae) #将 VAE 包装成一个并行化模型，以便在多个 GPU 上并行地进行训练\n",
    "\n",
    "#定义LOSS函数与优化器\n",
    "criterion1 = nn.MSELoss()\n",
    "criterion2 = Custom_criterion().cuda()\n",
    "optimizer = torch.optim.AdamW(vae.parameters(), lr = LR_MAX)"
   ]
  },
  {
   "cell_type": "code",
   "execution_count": 4,
   "id": "f4729999",
   "metadata": {
    "ExecuteTime": {
     "end_time": "2024-03-05T14:22:35.443508Z",
     "start_time": "2024-03-05T14:22:35.433880Z"
    },
    "papermill": {
     "duration": 0.062985,
     "end_time": "2023-10-27T12:21:54.155567",
     "exception": false,
     "start_time": "2023-10-27T12:21:54.092582",
     "status": "completed"
    },
    "tags": []
   },
   "outputs": [],
   "source": [
    "def train(dataloader, num_epochs):\n",
    "    with open(f'training.log', 'w') as nothing: # 清空原log\n",
    "        pass\n",
    "    log(f\"Experiment name: {EXP_NAME}\")\n",
    "    for epoch in range(num_epochs):\n",
    "        vae.train() # 切换成训练模式\n",
    "        total_loss = 0.0\n",
    "        current_lr = LR_MIN + 0.5 * (LR_MAX - LR_MIN) * (1 + np.cos(np.pi * epoch / EPOCHS))\n",
    "        optimizer = torch.optim.AdamW(vae.parameters(), lr = current_lr)\n",
    "\n",
    "        for _, (img_LR, img_HR) in enumerate(dataloader):\n",
    "            img_LR = torch.squeeze(img_LR,dim = 1).to(DEVICE)\n",
    "            img_HR = torch.squeeze(img_HR,dim = 1).to(DEVICE)\n",
    "            img_SR, _, _ = vae(img_LR)\n",
    "            img_SR = img_SR.to(DEVICE)\n",
    "            # 这步为止，img_LR,img_HR,img_SR均是[batchsize,不知道是什么,宽，高]\n",
    "            if epoch <= 500:\n",
    "                loss = criterion1(img_SR, img_HR)\n",
    "            if epoch > 500:\n",
    "                loss = criterion2(img_SR, img_HR) # 每个BATCH的loss，64张图平均\n",
    "            optimizer.zero_grad()\n",
    "            loss.backward() # 最耗算力的一步\n",
    "            optimizer.step()\n",
    "            total_loss += loss.item()\n",
    "        avg_loss = total_loss / len(dataloader) # 每个EPOCH的loss，全部数据集的平均\n",
    "        print(f\"Epoch [{epoch+1}/{num_epochs}], Average Loss: {avg_loss:.6f}, Current_LR:{current_lr:.4f}\")\n",
    "        log(f\"Epoch [{epoch+1}/{num_epochs}], Average Loss: {avg_loss:.6f}, Current_LR:{current_lr:.4f}\")\n",
    "\n",
    "        LOSS_PLOT.append(total_loss)\n",
    "        EPOCH_PLOT.append(epoch)\n",
    "        if epoch % 300 == 0:\n",
    "            torch.save(vae.state_dict(), Dir.TEMP()+'/checkpoint.pth')"
   ]
  },
  {
   "cell_type": "code",
   "execution_count": 5,
   "id": "420ee314",
   "metadata": {},
   "outputs": [
    {
     "name": "stdout",
     "output_type": "stream",
     "text": [
      "DEVICE:cuda\n",
      "\n",
      "Training Start. \n",
      "Experiment name: EXP_2_1\n",
      "Epoch [1/100], Average Loss: 0.182842, Current_LR:0.0005\n",
      "Epoch [2/100], Average Loss: 0.182137, Current_LR:0.0005\n",
      "Epoch [3/100], Average Loss: 0.181418, Current_LR:0.0005\n",
      "Epoch [4/100], Average Loss: 0.180517, Current_LR:0.0005\n",
      "Epoch [5/100], Average Loss: 0.179257, Current_LR:0.0005\n",
      "Epoch [6/100], Average Loss: 0.177408, Current_LR:0.0005\n",
      "Epoch [7/100], Average Loss: 0.177161, Current_LR:0.0005\n",
      "Epoch [8/100], Average Loss: 0.176483, Current_LR:0.0005\n",
      "Epoch [9/100], Average Loss: 0.175227, Current_LR:0.0005\n",
      "Epoch [10/100], Average Loss: 0.175270, Current_LR:0.0005\n",
      "Epoch [11/100], Average Loss: 0.173060, Current_LR:0.0005\n",
      "Epoch [12/100], Average Loss: 0.173652, Current_LR:0.0005\n",
      "Epoch [13/100], Average Loss: 0.171092, Current_LR:0.0005\n",
      "Epoch [14/100], Average Loss: 0.172087, Current_LR:0.0005\n",
      "Epoch [15/100], Average Loss: 0.169084, Current_LR:0.0005\n",
      "Epoch [16/100], Average Loss: 0.170769, Current_LR:0.0005\n",
      "Epoch [17/100], Average Loss: 0.167251, Current_LR:0.0005\n",
      "Epoch [18/100], Average Loss: 0.169361, Current_LR:0.0005\n",
      "Epoch [19/100], Average Loss: 0.165306, Current_LR:0.0005\n",
      "Epoch [20/100], Average Loss: 0.167809, Current_LR:0.0005\n",
      "Epoch [21/100], Average Loss: 0.163266, Current_LR:0.0005\n",
      "Epoch [22/100], Average Loss: 0.166044, Current_LR:0.0004\n",
      "Epoch [23/100], Average Loss: 0.160977, Current_LR:0.0004\n",
      "Epoch [24/100], Average Loss: 0.163795, Current_LR:0.0004\n",
      "Epoch [25/100], Average Loss: 0.158207, Current_LR:0.0004\n",
      "Epoch [26/100], Average Loss: 0.160058, Current_LR:0.0004\n",
      "Epoch [27/100], Average Loss: 0.154579, Current_LR:0.0004\n",
      "Epoch [28/100], Average Loss: 0.156759, Current_LR:0.0004\n",
      "Epoch [29/100], Average Loss: 0.151306, Current_LR:0.0004\n",
      "Epoch [30/100], Average Loss: 0.154258, Current_LR:0.0004\n",
      "Epoch [31/100], Average Loss: 0.148629, Current_LR:0.0004\n",
      "Epoch [32/100], Average Loss: 0.151610, Current_LR:0.0004\n",
      "Epoch [33/100], Average Loss: 0.145943, Current_LR:0.0004\n",
      "Epoch [34/100], Average Loss: 0.148866, Current_LR:0.0004\n",
      "Epoch [35/100], Average Loss: 0.142970, Current_LR:0.0004\n",
      "Epoch [36/100], Average Loss: 0.145835, Current_LR:0.0004\n",
      "Epoch [37/100], Average Loss: 0.140105, Current_LR:0.0004\n",
      "Epoch [38/100], Average Loss: 0.143202, Current_LR:0.0004\n",
      "Epoch [39/100], Average Loss: 0.137559, Current_LR:0.0003\n",
      "Epoch [40/100], Average Loss: 0.140656, Current_LR:0.0003\n",
      "Epoch [41/100], Average Loss: 0.135445, Current_LR:0.0003\n",
      "Epoch [42/100], Average Loss: 0.138522, Current_LR:0.0003\n",
      "Epoch [43/100], Average Loss: 0.133351, Current_LR:0.0003\n",
      "Epoch [44/100], Average Loss: 0.136556, Current_LR:0.0003\n",
      "Epoch [45/100], Average Loss: 0.131363, Current_LR:0.0003\n",
      "Epoch [46/100], Average Loss: 0.134608, Current_LR:0.0003\n",
      "Epoch [47/100], Average Loss: 0.129471, Current_LR:0.0003\n",
      "Epoch [48/100], Average Loss: 0.132560, Current_LR:0.0003\n",
      "Epoch [49/100], Average Loss: 0.127773, Current_LR:0.0003\n",
      "Epoch [50/100], Average Loss: 0.130429, Current_LR:0.0003\n",
      "Epoch [51/100], Average Loss: 0.126239, Current_LR:0.0003\n",
      "Epoch [52/100], Average Loss: 0.128596, Current_LR:0.0002\n",
      "Epoch [53/100], Average Loss: 0.124702, Current_LR:0.0002\n",
      "Epoch [54/100], Average Loss: 0.126889, Current_LR:0.0002\n",
      "Epoch [55/100], Average Loss: 0.123244, Current_LR:0.0002\n",
      "Epoch [56/100], Average Loss: 0.125170, Current_LR:0.0002\n",
      "Epoch [57/100], Average Loss: 0.121947, Current_LR:0.0002\n",
      "Epoch [58/100], Average Loss: 0.123616, Current_LR:0.0002\n",
      "Epoch [59/100], Average Loss: 0.120843, Current_LR:0.0002\n",
      "Epoch [60/100], Average Loss: 0.122179, Current_LR:0.0002\n",
      "Epoch [61/100], Average Loss: 0.119649, Current_LR:0.0002\n",
      "Epoch [62/100], Average Loss: 0.120646, Current_LR:0.0002\n",
      "Epoch [63/100], Average Loss: 0.118652, Current_LR:0.0002\n",
      "Epoch [64/100], Average Loss: 0.119378, Current_LR:0.0002\n",
      "Epoch [65/100], Average Loss: 0.117725, Current_LR:0.0001\n",
      "Epoch [66/100], Average Loss: 0.118325, Current_LR:0.0001\n",
      "Epoch [67/100], Average Loss: 0.116854, Current_LR:0.0001\n",
      "Epoch [68/100], Average Loss: 0.117265, Current_LR:0.0001\n",
      "Epoch [69/100], Average Loss: 0.116110, Current_LR:0.0001\n",
      "Epoch [70/100], Average Loss: 0.116309, Current_LR:0.0001\n",
      "Epoch [71/100], Average Loss: 0.115396, Current_LR:0.0001\n",
      "Epoch [72/100], Average Loss: 0.115483, Current_LR:0.0001\n",
      "Epoch [73/100], Average Loss: 0.114809, Current_LR:0.0001\n",
      "Epoch [74/100], Average Loss: 0.114862, Current_LR:0.0001\n",
      "Epoch [75/100], Average Loss: 0.114216, Current_LR:0.0001\n",
      "Epoch [76/100], Average Loss: 0.114157, Current_LR:0.0001\n",
      "Epoch [77/100], Average Loss: 0.113718, Current_LR:0.0001\n",
      "Epoch [78/100], Average Loss: 0.113644, Current_LR:0.0001\n",
      "Epoch [79/100], Average Loss: 0.113295, Current_LR:0.0001\n",
      "Epoch [80/100], Average Loss: 0.113174, Current_LR:0.0001\n",
      "Epoch [81/100], Average Loss: 0.112896, Current_LR:0.0001\n",
      "Epoch [82/100], Average Loss: 0.112724, Current_LR:0.0000\n",
      "Epoch [83/100], Average Loss: 0.112567, Current_LR:0.0000\n",
      "Epoch [84/100], Average Loss: 0.112445, Current_LR:0.0000\n",
      "Epoch [85/100], Average Loss: 0.112291, Current_LR:0.0000\n",
      "Epoch [86/100], Average Loss: 0.112163, Current_LR:0.0000\n",
      "Epoch [87/100], Average Loss: 0.112064, Current_LR:0.0000\n",
      "Epoch [88/100], Average Loss: 0.111928, Current_LR:0.0000\n",
      "Epoch [89/100], Average Loss: 0.111866, Current_LR:0.0000\n",
      "Epoch [90/100], Average Loss: 0.111811, Current_LR:0.0000\n",
      "Epoch [91/100], Average Loss: 0.111684, Current_LR:0.0000\n",
      "Epoch [92/100], Average Loss: 0.111646, Current_LR:0.0000\n",
      "Epoch [93/100], Average Loss: 0.111603, Current_LR:0.0000\n",
      "Epoch [94/100], Average Loss: 0.111562, Current_LR:0.0000\n",
      "Epoch [95/100], Average Loss: 0.111476, Current_LR:0.0000\n",
      "Epoch [96/100], Average Loss: 0.111464, Current_LR:0.0000\n",
      "Epoch [97/100], Average Loss: 0.111437, Current_LR:0.0000\n",
      "Epoch [98/100], Average Loss: 0.111456, Current_LR:0.0000\n",
      "Epoch [99/100], Average Loss: 0.111402, Current_LR:0.0000\n",
      "Epoch [100/100], Average Loss: 0.111361, Current_LR:0.0000\n",
      "\n",
      " Succsessfully done! Training log saved.\n"
     ]
    }
   ],
   "source": [
    "print(f'DEVICE:{DEVICE}\\n')\n",
    "print(f'Training Start. \\nExperiment name: {EXP_NAME}')\n",
    "train(dataloader, EPOCHS)\n",
    "print(f'\\n Succsessfully done! Training log saved.')"
   ]
  },
  {
   "cell_type": "code",
   "execution_count": 6,
   "id": "98415dd3",
   "metadata": {
    "ExecuteTime": {
     "end_time": "2024-03-05T14:22:37.462647Z",
     "start_time": "2024-03-05T14:22:37.462620Z"
    },
    "papermill": {
     "duration": 0.754423,
     "end_time": "2023-10-27T13:48:56.290726",
     "exception": false,
     "start_time": "2023-10-27T13:48:55.536303",
     "status": "completed"
    },
    "tags": []
   },
   "outputs": [
    {
     "name": "stdout",
     "output_type": "stream",
     "text": [
      "LOSS fig saved at ../outputs/trained_models/EXP_2_1_lossfig_100epo_128bth_256latn.png\n",
      "LOSS data saved at ../outputs/trained_models/EXP_2_1_lossdata_100epo_128bth_256latn.npy\n",
      "MODEL saved at ../outputs/trained_models/EXP_2_1_model_100epo_128bth_256latn.pth\n"
     ]
    },
    {
     "data": {
      "image/png": "[encoded data removed]",
      "text/plain": [
       "<Figure size 640x480 with 1 Axes>"
      ]
     },
     "metadata": {},
     "output_type": "display_data"
    }
   ],
   "source": [
    "fig,ax = plt.subplots()\n",
    "ax.plot(EPOCH_PLOT,LOSS_PLOT)\n",
    "fig.savefig(f'{Dir.models()}/{EXP_NAME}_lossfig_{name}.png', dpi = 300) # 保存LOSS图片\n",
    "print(f'LOSS fig saved at {Dir.models()}/{EXP_NAME}_lossfig_{name}.png')\n",
    "LOSS_DATA = np.stack((np.array(EPOCH_PLOT),np.array(LOSS_PLOT)),axis=0)\n",
    "np.save(f'{Dir.models()}/{EXP_NAME}_lossdata_{name}.npy',LOSS_DATA) # 保存LOSS数据\n",
    "print(f'LOSS data saved at {Dir.models()}/{EXP_NAME}_lossdata_{name}.npy')\n",
    "torch.save(vae.state_dict(), f'{Dir.models()}/{EXP_NAME}_model_{name}.pth') #保存模型pth\n",
    "print(f'MODEL saved at {Dir.models()}/{EXP_NAME}_model_{name}.pth')"
   ]
  }
 ],
 "metadata": {
  "kernelspec": {
   "display_name": "Python 3 (ipykernel)",
   "language": "python",
   "name": "python3"
  },
  "language_info": {
   "codemirror_mode": {
    "name": "ipython",
    "version": 3
   },
   "file_extension": ".py",
   "mimetype": "text/x-python",
   "name": "python",
   "nbconvert_exporter": "python",
   "pygments_lexer": "ipython3",
   "version": "3.10.12"
  },
  "papermill": {
   "default_parameters": {},
   "duration": 5275.573502,
   "end_time": "2023-10-27T13:49:02.004518",
   "environment_variables": {},
   "exception": null,
   "input_path": "__notebook__.ipynb",
   "output_path": "__notebook__.ipynb",
   "parameters": {},
   "start_time": "2023-10-27T12:21:06.431016",
   "version": "2.4.0"
  },
  "toc": {
   "base_numbering": 1,
   "nav_menu": {},
   "number_sections": true,
   "sideBar": true,
   "skip_h1_title": false,
   "title_cell": "Table of Contents",
   "title_sidebar": "Contents",
   "toc_cell": false,
   "toc_position": {},
   "toc_section_display": true,
   "toc_window_display": false
  }
 },
 "nbformat": 4,
 "nbformat_minor": 5
}
