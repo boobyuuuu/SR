{
 "cells": [
  {
   "cell_type": "code",
   "execution_count": null,
   "metadata": {},
   "outputs": [],
   "source": [
    "# 这个文件用来启动评估\n",
    "from modules.application import application\n",
    "\n",
    "# 从这里往下修改\n",
    "\n",
    "# 修改1：import的vae\n",
    "# 如：from utils.VAE_EXP_2_1 import VAE\n",
    "from utils.VAE import VAE\n",
    "\n",
    "# 修改2：MODE\n",
    "# MODE = 'normal': 只针对outputs/train下的模型\n",
    "# name输入outputs/train下具体pth的文件名\\\n",
    "\n",
    "# MODE = 'demo': 只针对manual_saves具体文件夹下的模型\n",
    "# name输入manual_save下的文件夹名，会自动搜索pth文件匹配。\n",
    "\n",
    "# 修改3：name\n",
    "name = 'model_2000epo_128bth_256latn.pth'\n",
    "# 示例：\n",
    "# name = '2_3'\n",
    "# name = 'model_2000epo_128bth_256latn.pth'\n",
    "application(mode = 'normal', vae = VAE, name = name) "
   ]
  }
 ],
 "metadata": {
  "kernelspec": {
   "display_name": "Python 3 (ipykernel)",
   "language": "python",
   "name": "python3"
  },
  "language_info": {
   "codemirror_mode": {
    "name": "ipython",
    "version": 3
   },
   "file_extension": ".py",
   "mimetype": "text/x-python",
   "name": "python",
   "nbconvert_exporter": "python",
   "pygments_lexer": "ipython3",
   "version": "3.10.12"
  }
 },
 "nbformat": 4,
 "nbformat_minor": 4
}
